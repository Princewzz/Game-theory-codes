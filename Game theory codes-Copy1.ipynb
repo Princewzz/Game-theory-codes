{
 "cells": [
  {
   "cell_type": "code",
   "execution_count": 1,
   "id": "7326617d",
   "metadata": {},
   "outputs": [
    {
     "name": "stdout",
     "output_type": "stream",
     "text": [
      "Mixed Strategy for Player 1 (Row Player): [0.12021858 0.         0.04918033 0.22404372 0.60655738]\n",
      "Mixed Strategy for Player 2 (Column Player): [0.47540984 0.04918033 0.         0.06557377 0.40983607]\n",
      "Game Value (v): 1.8032786885245904\n"
     ]
    }
   ],
   "source": [
    "import numpy as np\n",
    "from scipy.optimize import linprog\n",
    "\n",
    "# Define the 5x5 payoff matrix for Player 1\n",
    "payoff_matrix = np.array([\n",
    "    [3, 1, 2, 5, 0],\n",
    "    [1, 4, 3, 0, -2],\n",
    "    [2, 5, 0, 3, 1],\n",
    "    [6, 1, -1, 2, -3],\n",
    "    [0, 2, 3, 1, 4]\n",
    "])\n",
    "\n",
    "# --- Player 1 (Row Player) ---\n",
    "# Variables: [p1, p2, ..., p5, v] where p1...p5 are probabilities and v is the game's value\n",
    "n_rows, n_cols = payoff_matrix.shape\n",
    "c = np.zeros(n_rows + 1)\n",
    "c[-1] = -1  # Maximize v (negative because linprog minimizes)\n",
    "\n",
    "A_ub = np.hstack([-payoff_matrix.T, np.ones((n_cols, 1))])  # -A^T p + v >= 0\n",
    "b_ub = np.zeros(n_cols)\n",
    "\n",
    "A_eq = np.hstack([np.ones((1, n_rows)), [[0]]])  # Sum of probabilities = 1\n",
    "b_eq = [1]\n",
    "\n",
    "bounds = [(0, 1)] * n_rows + [(None, None)]  # Probabilities between 0 and 1, v unbounded\n",
    "\n",
    "# Solve for Player 1\n",
    "result_player_1 = linprog(c, A_ub=A_ub, b_ub=b_ub, A_eq=A_eq, b_eq=b_eq, bounds=bounds, method='highs')\n",
    "mixed_strategy_player_1 = result_player_1.x[:-1]\n",
    "game_value = result_player_1.x[-1]\n",
    "\n",
    "# --- Player 2 (Column Player) ---\n",
    "# Variables: [q1, q2, ..., q5, v] where q1...q5 are probabilities and v is the game's value\n",
    "c = np.zeros(n_cols + 1)\n",
    "c[-1] = 1  # Minimize v\n",
    "\n",
    "A_ub = np.hstack([payoff_matrix, -np.ones((n_rows, 1))])  # A q - v <= 0\n",
    "b_ub = np.zeros(n_rows)\n",
    "\n",
    "A_eq = np.hstack([np.ones((1, n_cols)), [[0]]])  # Sum of probabilities = 1\n",
    "b_eq = [1]\n",
    "\n",
    "bounds = [(0, 1)] * n_cols + [(None, None)]  # Probabilities between 0 and 1, v unbounded\n",
    "\n",
    "# Solve for Player 2\n",
    "result_player_2 = linprog(c, A_ub=A_ub, b_ub=b_ub, A_eq=A_eq, b_eq=b_eq, bounds=bounds, method='highs')\n",
    "mixed_strategy_player_2 = result_player_2.x[:-1]\n",
    "\n",
    "# Display Results\n",
    "print(\"Mixed Strategy for Player 1 (Row Player):\", mixed_strategy_player_1)\n",
    "print(\"Mixed Strategy for Player 2 (Column Player):\", mixed_strategy_player_2)\n",
    "print(\"Game Value (v):\", game_value)"
   ]
  },
  {
   "cell_type": "code",
   "execution_count": 3,
   "id": "07c37dd3",
   "metadata": {},
   "outputs": [
    {
     "data": {
      "text/plain": [
       "array([[1., 2., 2., 3., 3., 3., 4., 4., 4., 4.],\n",
       "       [1., 1., 2., 2., 2., 3., 3., 3., 3., 4.],\n",
       "       [1., 2., 1., 3., 2., 2., 4., 3., 3., 3.],\n",
       "       [2., 1., 2., 1., 2., 3., 2., 2., 3., 4.],\n",
       "       [2., 1., 1., 2., 1., 2., 3., 2., 2., 3.],\n",
       "       [2., 2., 1., 3., 2., 1., 4., 3., 2., 2.],\n",
       "       [3., 2., 3., 1., 2., 3., 1., 2., 3., 4.],\n",
       "       [3., 2., 2., 1., 1., 2., 2., 1., 2., 3.],\n",
       "       [3., 2., 2., 2., 1., 1., 3., 2., 1., 2.],\n",
       "       [3., 3., 2., 3., 2., 1., 4., 3., 2., 1.],\n",
       "       [4., 3., 4., 2., 3., 4., 1., 2., 3., 4.],\n",
       "       [4., 3., 3., 2., 2., 3., 1., 1., 2., 3.],\n",
       "       [4., 3., 3., 2., 2., 2., 2., 1., 1., 2.],\n",
       "       [4., 3., 3., 3., 2., 2., 3., 2., 1., 1.],\n",
       "       [4., 4., 3., 4., 3., 2., 4., 3., 2., 1.]])"
      ]
     },
     "execution_count": 3,
     "metadata": {},
     "output_type": "execute_result"
    }
   ],
   "source": [
    "import numpy as np\n",
    "\n",
    "# Player 1's strategies (cards played in each round)\n",
    "player1_strategies = [\n",
    "    [4, 0, 0], [3, 1, 0], [3, 0, 1], [2, 2, 0], [2, 1, 1],\n",
    "    [2, 0, 2], [1, 3, 0], [1, 2, 1], [1, 1, 2], [1, 0, 3],\n",
    "    [0, 4, 0], [0, 3, 1], [0, 2, 2], [0, 1, 3], [0, 0, 4]\n",
    "]\n",
    "\n",
    "# Player 2's strategies (cards played in each round)\n",
    "player2_strategies = [\n",
    "    [3, 0, 0], [2, 1, 0], [2, 0, 1], [1, 2, 0], [1, 1, 1],\n",
    "    [1, 0, 2], [0, 3, 0], [0, 2, 1], [0, 1, 2], [0, 0, 3]\n",
    "]\n",
    "\n",
    "# Calculate payoffs: Sum of (Player 1 card - Player 2 card) in each round\n",
    "payoff_matrix = np.zeros((len(player1_strategies), len(player2_strategies)))\n",
    "\n",
    "for i, p1 in enumerate(player1_strategies):\n",
    "    for j, p2 in enumerate(player2_strategies):\n",
    "        payoff_matrix[i, j] = sum(max((p1[p] - p2[p]), 0) for p in range(3))\n",
    "\n",
    "payoff_matrix"
   ]
  },
  {
   "cell_type": "code",
   "execution_count": 6,
   "id": "f81eb62c",
   "metadata": {},
   "outputs": [
    {
     "data": {
      "text/plain": [
       "[[4, 0, 0],\n",
       " [3, 1, 0],\n",
       " [3, 0, 1],\n",
       " [2, 2, 0],\n",
       " [2, 1, 1],\n",
       " [2, 0, 2],\n",
       " [1, 3, 0],\n",
       " [1, 2, 1],\n",
       " [1, 1, 2],\n",
       " [1, 0, 3],\n",
       " [0, 4, 0],\n",
       " [0, 3, 1],\n",
       " [0, 2, 2],\n",
       " [0, 1, 3],\n",
       " [0, 0, 4]]"
      ]
     },
     "execution_count": 6,
     "metadata": {},
     "output_type": "execute_result"
    }
   ],
   "source": [
    "player1_strategies"
   ]
  },
  {
   "cell_type": "code",
   "execution_count": 4,
   "id": "82631537",
   "metadata": {},
   "outputs": [
    {
     "data": {
      "text/plain": [
       "array([[1., 2., 2., 3., 3., 3., 4., 4., 4., 4.],\n",
       "       [2., 1., 2., 1., 2., 3., 2., 2., 3., 4.],\n",
       "       [2., 1., 1., 2., 1., 2., 3., 2., 2., 3.],\n",
       "       [2., 2., 1., 3., 2., 1., 4., 3., 2., 2.],\n",
       "       [3., 2., 2., 1., 1., 2., 2., 1., 2., 3.],\n",
       "       [3., 2., 2., 2., 1., 1., 3., 2., 1., 2.],\n",
       "       [4., 3., 4., 2., 3., 4., 1., 2., 3., 4.],\n",
       "       [4., 3., 3., 2., 2., 2., 2., 1., 1., 2.],\n",
       "       [4., 4., 3., 4., 3., 2., 4., 3., 2., 1.]])"
      ]
     },
     "execution_count": 4,
     "metadata": {},
     "output_type": "execute_result"
    }
   ],
   "source": [
    "# Payoff matrix for the game\n",
    "payoff_matrix = np.array([\n",
    "    [1., 2., 2., 3., 3., 3., 4., 4., 4., 4.],\n",
    "    [1., 1., 2., 2., 2., 3., 3., 3., 3., 4.],\n",
    "    [1., 2., 1., 3., 2., 2., 4., 3., 3., 3.],\n",
    "    [2., 1., 2., 1., 2., 3., 2., 2., 3., 4.],\n",
    "    [2., 1., 1., 2., 1., 2., 3., 2., 2., 3.],\n",
    "    [2., 2., 1., 3., 2., 1., 4., 3., 2., 2.],\n",
    "    [3., 2., 3., 1., 2., 3., 1., 2., 3., 4.],\n",
    "    [3., 2., 2., 1., 1., 2., 2., 1., 2., 3.],\n",
    "    [3., 2., 2., 2., 1., 1., 3., 2., 1., 2.],\n",
    "    [3., 3., 2., 3., 2., 1., 4., 3., 2., 1.],\n",
    "    [4., 3., 4., 2., 3., 4., 1., 2., 3., 4.],\n",
    "    [4., 3., 3., 2., 2., 3., 1., 1., 2., 3.],\n",
    "    [4., 3., 3., 2., 2., 2., 2., 1., 1., 2.],\n",
    "    [4., 3., 3., 3., 2., 2., 3., 2., 1., 1.],\n",
    "    [4., 4., 3., 4., 3., 2., 4., 3., 2., 1.]\n",
    "])\n",
    "\n",
    "# Find dominated strategies for Player 1 (row player)\n",
    "def find_dominated_strategies(payoff_matrix):\n",
    "    dominated_rows = set()\n",
    "    rows, cols = payoff_matrix.shape\n",
    "    for i in range(rows):\n",
    "        for j in range(rows):\n",
    "            if i != j and not any(payoff_matrix[i] > payoff_matrix[j]):\n",
    "                dominated_rows.add(i)\n",
    "    return list(dominated_rows)\n",
    "\n",
    "# Find dominated strategies for Player 2 (column player)\n",
    "def find_dominated_columns(payoff_matrix):\n",
    "    dominated_cols = set()\n",
    "    rows, cols = payoff_matrix.shape\n",
    "    for i in range(cols):\n",
    "        for j in range(cols):\n",
    "            if i != j and not any(payoff_matrix[:,i] > payoff_matrix[:,j]):\n",
    "                dominated_cols.add(i)\n",
    "    return list(dominated_cols)\n",
    "\n",
    "# Find dominated strategies\n",
    "dominated_rows = find_dominated_strategies(payoff_matrix)\n",
    "dominated_cols = find_dominated_columns(payoff_matrix)\n",
    "\n",
    "# Remove dominated strategies\n",
    "reduced_payoff_matrix = np.delete(payoff_matrix, dominated_rows, axis=0)\n",
    "reduced_payoff_matrix = np.delete(reduced_payoff_matrix, dominated_cols, axis=1)\n",
    "\n",
    "reduced_payoff_matrix"
   ]
  },
  {
   "cell_type": "code",
   "execution_count": 7,
   "id": "f42b7eb6",
   "metadata": {},
   "outputs": [
    {
     "data": {
      "text/plain": [
       "array([[4, 0, 0],\n",
       "       [2, 2, 0],\n",
       "       [2, 1, 1],\n",
       "       [2, 0, 2],\n",
       "       [1, 2, 1],\n",
       "       [1, 1, 2],\n",
       "       [0, 4, 0],\n",
       "       [0, 2, 2],\n",
       "       [0, 0, 4]])"
      ]
     },
     "execution_count": 7,
     "metadata": {},
     "output_type": "execute_result"
    }
   ],
   "source": [
    "reduced_player1_strategies = np.delete(player1_strategies, dominated_rows, axis=0)\n",
    "reduced_player2_strategies = np.delete(player2_strategies, dominated_cols, axis=1)\n",
    "reduced_player1_strategies"
   ]
  },
  {
   "cell_type": "code",
   "execution_count": 15,
   "id": "cb9f19eb",
   "metadata": {},
   "outputs": [
    {
     "data": {
      "text/plain": [
       "(array([ 1., -0.,  0.,  0.,  0.,  0.,  0.,  0.,  0.,  0.,  0.,  0.,  0.,\n",
       "         0.,  0.]),\n",
       " array([1., 0., 0., 0., 0., 0., 0., 0., 0., 0.]))"
      ]
     },
     "execution_count": 15,
     "metadata": {},
     "output_type": "execute_result"
    }
   ],
   "source": [
    "from scipy.optimize import linprog\n",
    "\n",
    "# Number of strategies for each player\n",
    "m = len(player1_strategies)\n",
    "n = len(player2_strategies)\n",
    "\n",
    "# Linear programming formulation:\n",
    "# Maximize the expected payoff for Player 1\n",
    "# Constraints: x_i should sum to 1 and be between 0 and 1\n",
    "\n",
    "# Set up the objective function (negative since linprog minimizes)\n",
    "c = -np.ones(m)  # We aim to maximize the payoff\n",
    "\n",
    "# Set up the inequality constraints (probabilities must sum to 1)\n",
    "A_eq = np.ones((1, m))  # Sum of probabilities for Player 1's strategies must be 1\n",
    "b_eq = np.array([1])\n",
    "\n",
    "# Bounds for Player 1's probabilities\n",
    "bounds = [(0, 1)] * m\n",
    "\n",
    "# Solve using linprog\n",
    "result = linprog(c, A_eq=A_eq, b_eq=b_eq, bounds=bounds, method='highs')\n",
    "\n",
    "# Player 1's optimal mixed strategy\n",
    "player1_mixed_strategy = result.x\n",
    "\n",
    "# Now for Player 2's strategy\n",
    "# Minimize the expected payoff for Player 2 (maximize the negative)\n",
    "c2 = np.ones(n)\n",
    "\n",
    "# Constraints for Player 2\n",
    "A_eq2 = np.ones((1, n))\n",
    "b_eq2 = np.array([1])\n",
    "\n",
    "# Bounds for Player 2's probabilities\n",
    "bounds2 = [(0, 1)] * n\n",
    "\n",
    "# Solve for Player 2's optimal mixed strategy\n",
    "result2 = linprog(c2, A_eq=A_eq2, b_eq=b_eq2, bounds=bounds2, method='highs')\n",
    "\n",
    "# Player 2's optimal mixed strategy\n",
    "player2_mixed_strategy = result2.x\n",
    "\n",
    "player1_mixed_strategy, player2_mixed_strategy"
   ]
  },
  {
   "cell_type": "code",
   "execution_count": 48,
   "id": "29b06371",
   "metadata": {},
   "outputs": [
    {
     "name": "stdout",
     "output_type": "stream",
     "text": [
      "Mixed Strategy for Player 1 (Row Player): [3.33333335e-01 8.08461373e-10 2.76772397e-09 8.08461642e-10\n",
      " 2.76772461e-09 2.76772416e-09 3.33333335e-01 8.08461476e-10\n",
      " 3.33333335e-01]\n",
      "Mixed Strategy for Player 2 (Column Player): [0.12935777 0.08871148 0.08871148 0.08871148 0.07965781 0.08871148\n",
      " 0.12935777 0.08871148 0.08871148 0.12935777]\n",
      "Game Value (v): 2.999999993549847\n"
     ]
    },
    {
     "name": "stderr",
     "output_type": "stream",
     "text": [
      "C:\\Users\\liusc\\AppData\\Local\\Temp\\ipykernel_46112\\3394872550.py:14: DeprecationWarning: `method='interior-point'` is deprecated and will be removed in SciPy 1.11.0. Please use one of the HiGHS solvers (e.g. `method='highs'`) in new code.\n",
      "  result_player_1 = linprog(c, A_ub=A_ub, b_ub=b_ub, A_eq=A_eq, b_eq=b_eq, bounds=bounds, method='interior-point')\n",
      "C:\\Users\\liusc\\AppData\\Local\\Temp\\ipykernel_46112\\3394872550.py:32: DeprecationWarning: `method='interior-point'` is deprecated and will be removed in SciPy 1.11.0. Please use one of the HiGHS solvers (e.g. `method='highs'`) in new code.\n",
      "  result_player_2 = linprog(c, A_ub=A_ub, b_ub=b_ub, A_eq=A_eq, b_eq=b_eq, bounds=bounds, method='interior-point')\n"
     ]
    }
   ],
   "source": [
    "n_rows, n_cols = reduced_payoff_matrix.shape\n",
    "c = np.zeros(n_rows + 1)\n",
    "c[-1] = -1  # Maximize v (negative because linprog minimizes)\n",
    "\n",
    "A_ub = np.hstack([-reduced_payoff_matrix.T, np.ones((n_cols, 1))])  # -A^T p + v >= 0\n",
    "b_ub = np.zeros(n_cols)\n",
    "\n",
    "A_eq = np.hstack([np.ones((1, n_rows)), [[0]]])  # Sum of probabilities = 1\n",
    "b_eq = [1]\n",
    "\n",
    "bounds = [(0, 1)] * n_rows + [(None, None)]  # Probabilities between 0 and 1, v unbounded\n",
    "\n",
    "# Solve for Player 1\n",
    "result_player_1 = linprog(c, A_ub=A_ub, b_ub=b_ub, A_eq=A_eq, b_eq=b_eq, bounds=bounds, method='interior-point')\n",
    "mixed_strategy_player_1 = result_player_1.x[:-1]\n",
    "game_value = result_player_1.x[-1]\n",
    "\n",
    "# --- Player 2 (Column Player) ---\n",
    "# Variables: [q1, q2, ..., q5, v] where q1...q5 are probabilities and v is the game's value\n",
    "c = np.zeros(n_cols + 1)\n",
    "c[-1] = 1  # Minimize v\n",
    "\n",
    "A_ub = np.hstack([reduced_payoff_matrix, -np.ones((n_rows, 1))])  # A q - v <= 0\n",
    "b_ub = np.zeros(n_rows)\n",
    "\n",
    "A_eq = np.hstack([np.ones((1, n_cols)), [[0]]])  # Sum of probabilities = 1\n",
    "b_eq = [1]\n",
    "\n",
    "bounds = [(0, 1)] * n_cols + [(None, None)]  # Probabilities between 0 and 1, v unbounded\n",
    "\n",
    "# Solve for Player 2\n",
    "result_player_2 = linprog(c, A_ub=A_ub, b_ub=b_ub, A_eq=A_eq, b_eq=b_eq, bounds=bounds, method='interior-point')\n",
    "mixed_strategy_player_2 = result_player_2.x[:-1]\n",
    "\n",
    "# Display Results\n",
    "print(\"Mixed Strategy for Player 1 (Row Player):\", mixed_strategy_player_1)\n",
    "print(\"Mixed Strategy for Player 2 (Column Player):\", mixed_strategy_player_2)\n",
    "print(\"Game Value (v):\", game_value)"
   ]
  },
  {
   "cell_type": "code",
   "execution_count": 32,
   "id": "2775e8b7",
   "metadata": {},
   "outputs": [
    {
     "data": {
      "text/plain": [
       "1.0000000149937767"
      ]
     },
     "execution_count": 32,
     "metadata": {},
     "output_type": "execute_result"
    }
   ],
   "source": [
    "sum(mixed_strategy_player_1)"
   ]
  },
  {
   "cell_type": "code",
   "execution_count": 52,
   "id": "d1eecea4",
   "metadata": {},
   "outputs": [
    {
     "name": "stdout",
     "output_type": "stream",
     "text": [
      "Mixed Strategy for Player 1 (Row Player): [0.33333333 0.         0.         0.         0.         0.\n",
      " 0.33333333 0.         0.33333333]\n",
      "Mixed Strategy for Player 2 (Column Player): [0.16666667 0.         0.         0.         0.         0.5\n",
      " 0.33333333 0.         0.         0.        ]\n",
      "Game Value (v): 3.0\n"
     ]
    },
    {
     "name": "stderr",
     "output_type": "stream",
     "text": [
      "C:\\Users\\liusc\\AppData\\Local\\Temp\\ipykernel_46112\\3523312597.py:14: DeprecationWarning: `method='revised simplex'` is deprecated and will be removed in SciPy 1.11.0. Please use one of the HiGHS solvers (e.g. `method='highs'`) in new code.\n",
      "  result_player_1 = linprog(c, A_ub=A_ub, b_ub=b_ub, A_eq=A_eq, b_eq=b_eq, bounds=bounds, method='revised simplex')\n",
      "C:\\Users\\liusc\\AppData\\Local\\Temp\\ipykernel_46112\\3523312597.py:32: DeprecationWarning: `method='revised simplex'` is deprecated and will be removed in SciPy 1.11.0. Please use one of the HiGHS solvers (e.g. `method='highs'`) in new code.\n",
      "  result_player_2 = linprog(c, A_ub=A_ub, b_ub=b_ub, A_eq=A_eq, b_eq=b_eq, bounds=bounds, method='revised simplex')\n"
     ]
    }
   ],
   "source": [
    "n_rows, n_cols = reduced_payoff_matrix.shape\n",
    "c = np.zeros(n_rows + 1)\n",
    "c[-1] = -1  # Maximize v (negative because linprog minimizes)\n",
    "\n",
    "A_ub = np.hstack([-reduced_payoff_matrix.T, np.ones((n_cols, 1))])  # -A^T p + v >= 0\n",
    "b_ub = np.zeros(n_cols)\n",
    "\n",
    "A_eq = np.hstack([np.ones((1, n_rows)), [[0]]])  # Sum of probabilities = 1\n",
    "b_eq = [1]\n",
    "\n",
    "bounds = [(0, 1)] * n_rows + [(None, None)]  # Probabilities between 0 and 1, v unbounded\n",
    "\n",
    "# Solve for Player 1\n",
    "result_player_1 = linprog(c, A_ub=A_ub, b_ub=b_ub, A_eq=A_eq, b_eq=b_eq, bounds=bounds, method='revised simplex')\n",
    "mixed_strategy_player_1 = result_player_1.x[:-1]\n",
    "game_value = result_player_1.x[-1]\n",
    "\n",
    "# --- Player 2 (Column Player) ---\n",
    "# Variables: [q1, q2, ..., q5, v] where q1...q5 are probabilities and v is the game's value\n",
    "c = np.zeros(n_cols + 1)\n",
    "c[-1] = 1  # Minimize v\n",
    "\n",
    "A_ub = np.hstack([reduced_payoff_matrix, -np.ones((n_rows, 1))])  # A q - v <= 0\n",
    "b_ub = np.zeros(n_rows)\n",
    "\n",
    "A_eq = np.hstack([np.ones((1, n_cols)), [[0]]])  # Sum of probabilities = 1\n",
    "b_eq = [1]\n",
    "\n",
    "bounds = [(0, 1)] * n_cols + [(None, None)]  # Probabilities between 0 and 1, v unbounded\n",
    "\n",
    "# Solve for Player 2\n",
    "result_player_2 = linprog(c, A_ub=A_ub, b_ub=b_ub, A_eq=A_eq, b_eq=b_eq, bounds=bounds, method='revised simplex')\n",
    "mixed_strategy_player_2 = result_player_2.x[:-1]\n",
    "\n",
    "# Display Results\n",
    "print(\"Mixed Strategy for Player 1 (Row Player):\", mixed_strategy_player_1)\n",
    "print(\"Mixed Strategy for Player 2 (Column Player):\", mixed_strategy_player_2)\n",
    "print(\"Game Value (v):\", game_value)"
   ]
  },
  {
   "cell_type": "code",
   "execution_count": 51,
   "id": "23a34c45",
   "metadata": {},
   "outputs": [
    {
     "name": "stdout",
     "output_type": "stream",
     "text": [
      "Mixed Strategy for Player 1 (Row Player): [0.33333333 0.         0.         0.         0.         0.\n",
      " 0.33333333 0.         0.33333333]\n",
      "Mixed Strategy for Player 2 (Column Player): [0.33333333 0.         0.         0.         0.         0.\n",
      " 0.         0.5        0.         0.16666667]\n",
      "Game Value (v): 3.0\n"
     ]
    }
   ],
   "source": [
    "n_rows, n_cols = reduced_payoff_matrix.shape\n",
    "c = np.zeros(n_rows + 1)\n",
    "c[-1] = -1  # Maximize v (negative because linprog minimizes)\n",
    "\n",
    "A_ub = np.hstack([-reduced_payoff_matrix.T, np.ones((n_cols, 1))])  # -A^T p + v >= 0\n",
    "b_ub = np.zeros(n_cols)\n",
    "\n",
    "A_eq = np.hstack([np.ones((1, n_rows)), [[0]]])  # Sum of probabilities = 1\n",
    "b_eq = [1]\n",
    "\n",
    "bounds = [(0, 1)] * n_rows + [(None, None)]  # Probabilities between 0 and 1, v unbounded\n",
    "\n",
    "# Solve for Player 1\n",
    "result_player_1 = linprog(c, A_ub=A_ub, b_ub=b_ub, A_eq=A_eq, b_eq=b_eq, bounds=bounds)\n",
    "mixed_strategy_player_1 = result_player_1.x[:-1]\n",
    "game_value = result_player_1.x[-1]\n",
    "\n",
    "# --- Player 2 (Column Player) ---\n",
    "# Variables: [q1, q2, ..., q5, v] where q1...q5 are probabilities and v is the game's value\n",
    "c = np.zeros(n_cols + 1)\n",
    "c[-1] = 1  # Minimize v\n",
    "\n",
    "A_ub = np.hstack([reduced_payoff_matrix, -np.ones((n_rows, 1))])  # A q - v <= 0\n",
    "b_ub = np.zeros(n_rows)\n",
    "\n",
    "A_eq = np.hstack([np.ones((1, n_cols)), [[0]]])  # Sum of probabilities = 1\n",
    "b_eq = [1]\n",
    "\n",
    "bounds = [(0, 1)] * n_cols + [(None, None)]  # Probabilities between 0 and 1, v unbounded\n",
    "\n",
    "# Solve for Player 2\n",
    "result_player_2 = linprog(c, A_ub=A_ub, b_ub=b_ub, A_eq=A_eq, b_eq=b_eq, bounds=bounds)\n",
    "mixed_strategy_player_2 = result_player_2.x[:-1]\n",
    "\n",
    "# Display Results\n",
    "print(\"Mixed Strategy for Player 1 (Row Player):\", mixed_strategy_player_1)\n",
    "print(\"Mixed Strategy for Player 2 (Column Player):\", mixed_strategy_player_2)\n",
    "print(\"Game Value (v):\", game_value)"
   ]
  },
  {
   "cell_type": "code",
   "execution_count": 53,
   "id": "95b6f72d",
   "metadata": {},
   "outputs": [
    {
     "ename": "ImportError",
     "evalue": "DLL load failed while importing _path: 找不到指定的模块。",
     "output_type": "error",
     "traceback": [
      "\u001b[1;31m---------------------------------------------------------------------------\u001b[0m",
      "\u001b[1;31mImportError\u001b[0m                               Traceback (most recent call last)",
      "Cell \u001b[1;32mIn[53], line 1\u001b[0m\n\u001b[1;32m----> 1\u001b[0m \u001b[38;5;28;01mimport\u001b[39;00m \u001b[38;5;21;01mmatplotlib\u001b[39;00m\u001b[38;5;21;01m.\u001b[39;00m\u001b[38;5;21;01mpyplot\u001b[39;00m \u001b[38;5;28;01mas\u001b[39;00m \u001b[38;5;21;01mplt\u001b[39;00m\n\u001b[0;32m      2\u001b[0m plt\u001b[38;5;241m.\u001b[39mfigure(figsize\u001b[38;5;241m=\u001b[39m(\u001b[38;5;241m8\u001b[39m, \u001b[38;5;241m6\u001b[39m))\n\u001b[0;32m      3\u001b[0m plt\u001b[38;5;241m.\u001b[39mimshow(payoff_matrix, cmap\u001b[38;5;241m=\u001b[39m\u001b[38;5;124m'\u001b[39m\u001b[38;5;124mviridis\u001b[39m\u001b[38;5;124m'\u001b[39m, interpolation\u001b[38;5;241m=\u001b[39m\u001b[38;5;124m'\u001b[39m\u001b[38;5;124mnearest\u001b[39m\u001b[38;5;124m'\u001b[39m)\n",
      "File \u001b[1;32m~\\anaconda3\\lib\\site-packages\\matplotlib\\__init__.py:174\u001b[0m\n\u001b[0;32m    170\u001b[0m \u001b[38;5;28;01mfrom\u001b[39;00m \u001b[38;5;21;01mpackaging\u001b[39;00m\u001b[38;5;21;01m.\u001b[39;00m\u001b[38;5;21;01mversion\u001b[39;00m \u001b[38;5;28;01mimport\u001b[39;00m parse \u001b[38;5;28;01mas\u001b[39;00m parse_version\n\u001b[0;32m    172\u001b[0m \u001b[38;5;66;03m# cbook must import matplotlib only within function\u001b[39;00m\n\u001b[0;32m    173\u001b[0m \u001b[38;5;66;03m# definitions, so it is safe to import from it here.\u001b[39;00m\n\u001b[1;32m--> 174\u001b[0m \u001b[38;5;28;01mfrom\u001b[39;00m \u001b[38;5;21;01m.\u001b[39;00m \u001b[38;5;28;01mimport\u001b[39;00m _api, _version, cbook, _docstring, rcsetup\n\u001b[0;32m    175\u001b[0m \u001b[38;5;28;01mfrom\u001b[39;00m \u001b[38;5;21;01mmatplotlib\u001b[39;00m\u001b[38;5;21;01m.\u001b[39;00m\u001b[38;5;21;01mcbook\u001b[39;00m \u001b[38;5;28;01mimport\u001b[39;00m sanitize_sequence\n\u001b[0;32m    176\u001b[0m \u001b[38;5;28;01mfrom\u001b[39;00m \u001b[38;5;21;01mmatplotlib\u001b[39;00m\u001b[38;5;21;01m.\u001b[39;00m\u001b[38;5;21;01m_api\u001b[39;00m \u001b[38;5;28;01mimport\u001b[39;00m MatplotlibDeprecationWarning\n",
      "File \u001b[1;32m~\\anaconda3\\lib\\site-packages\\matplotlib\\rcsetup.py:27\u001b[0m\n\u001b[0;32m     25\u001b[0m \u001b[38;5;28;01mfrom\u001b[39;00m \u001b[38;5;21;01mmatplotlib\u001b[39;00m \u001b[38;5;28;01mimport\u001b[39;00m _api, cbook\n\u001b[0;32m     26\u001b[0m \u001b[38;5;28;01mfrom\u001b[39;00m \u001b[38;5;21;01mmatplotlib\u001b[39;00m\u001b[38;5;21;01m.\u001b[39;00m\u001b[38;5;21;01mcbook\u001b[39;00m \u001b[38;5;28;01mimport\u001b[39;00m ls_mapper\n\u001b[1;32m---> 27\u001b[0m \u001b[38;5;28;01mfrom\u001b[39;00m \u001b[38;5;21;01mmatplotlib\u001b[39;00m\u001b[38;5;21;01m.\u001b[39;00m\u001b[38;5;21;01mcolors\u001b[39;00m \u001b[38;5;28;01mimport\u001b[39;00m Colormap, is_color_like\n\u001b[0;32m     28\u001b[0m \u001b[38;5;28;01mfrom\u001b[39;00m \u001b[38;5;21;01mmatplotlib\u001b[39;00m\u001b[38;5;21;01m.\u001b[39;00m\u001b[38;5;21;01m_fontconfig_pattern\u001b[39;00m \u001b[38;5;28;01mimport\u001b[39;00m parse_fontconfig_pattern\n\u001b[0;32m     29\u001b[0m \u001b[38;5;28;01mfrom\u001b[39;00m \u001b[38;5;21;01mmatplotlib\u001b[39;00m\u001b[38;5;21;01m.\u001b[39;00m\u001b[38;5;21;01m_enums\u001b[39;00m \u001b[38;5;28;01mimport\u001b[39;00m JoinStyle, CapStyle\n",
      "File \u001b[1;32m~\\anaconda3\\lib\\site-packages\\matplotlib\\colors.py:57\u001b[0m\n\u001b[0;32m     55\u001b[0m \u001b[38;5;28;01mimport\u001b[39;00m \u001b[38;5;21;01mmatplotlib\u001b[39;00m \u001b[38;5;28;01mas\u001b[39;00m \u001b[38;5;21;01mmpl\u001b[39;00m\n\u001b[0;32m     56\u001b[0m \u001b[38;5;28;01mimport\u001b[39;00m \u001b[38;5;21;01mnumpy\u001b[39;00m \u001b[38;5;28;01mas\u001b[39;00m \u001b[38;5;21;01mnp\u001b[39;00m\n\u001b[1;32m---> 57\u001b[0m \u001b[38;5;28;01mfrom\u001b[39;00m \u001b[38;5;21;01mmatplotlib\u001b[39;00m \u001b[38;5;28;01mimport\u001b[39;00m _api, _cm, cbook, scale\n\u001b[0;32m     58\u001b[0m \u001b[38;5;28;01mfrom\u001b[39;00m \u001b[38;5;21;01m.\u001b[39;00m\u001b[38;5;21;01m_color_data\u001b[39;00m \u001b[38;5;28;01mimport\u001b[39;00m BASE_COLORS, TABLEAU_COLORS, CSS4_COLORS, XKCD_COLORS\n\u001b[0;32m     61\u001b[0m \u001b[38;5;28;01mclass\u001b[39;00m \u001b[38;5;21;01m_ColorMapping\u001b[39;00m(\u001b[38;5;28mdict\u001b[39m):\n",
      "File \u001b[1;32m~\\anaconda3\\lib\\site-packages\\matplotlib\\scale.py:22\u001b[0m\n\u001b[0;32m     20\u001b[0m \u001b[38;5;28;01mimport\u001b[39;00m \u001b[38;5;21;01mmatplotlib\u001b[39;00m \u001b[38;5;28;01mas\u001b[39;00m \u001b[38;5;21;01mmpl\u001b[39;00m\n\u001b[0;32m     21\u001b[0m \u001b[38;5;28;01mfrom\u001b[39;00m \u001b[38;5;21;01mmatplotlib\u001b[39;00m \u001b[38;5;28;01mimport\u001b[39;00m _api, _docstring\n\u001b[1;32m---> 22\u001b[0m \u001b[38;5;28;01mfrom\u001b[39;00m \u001b[38;5;21;01mmatplotlib\u001b[39;00m\u001b[38;5;21;01m.\u001b[39;00m\u001b[38;5;21;01mticker\u001b[39;00m \u001b[38;5;28;01mimport\u001b[39;00m (\n\u001b[0;32m     23\u001b[0m     NullFormatter, ScalarFormatter, LogFormatterSciNotation, LogitFormatter,\n\u001b[0;32m     24\u001b[0m     NullLocator, LogLocator, AutoLocator, AutoMinorLocator,\n\u001b[0;32m     25\u001b[0m     SymmetricalLogLocator, AsinhLocator, LogitLocator)\n\u001b[0;32m     26\u001b[0m \u001b[38;5;28;01mfrom\u001b[39;00m \u001b[38;5;21;01mmatplotlib\u001b[39;00m\u001b[38;5;21;01m.\u001b[39;00m\u001b[38;5;21;01mtransforms\u001b[39;00m \u001b[38;5;28;01mimport\u001b[39;00m Transform, IdentityTransform\n\u001b[0;32m     29\u001b[0m \u001b[38;5;28;01mclass\u001b[39;00m \u001b[38;5;21;01mScaleBase\u001b[39;00m:\n",
      "File \u001b[1;32m~\\anaconda3\\lib\\site-packages\\matplotlib\\ticker.py:143\u001b[0m\n\u001b[0;32m    141\u001b[0m \u001b[38;5;28;01mimport\u001b[39;00m \u001b[38;5;21;01mmatplotlib\u001b[39;00m \u001b[38;5;28;01mas\u001b[39;00m \u001b[38;5;21;01mmpl\u001b[39;00m\n\u001b[0;32m    142\u001b[0m \u001b[38;5;28;01mfrom\u001b[39;00m \u001b[38;5;21;01mmatplotlib\u001b[39;00m \u001b[38;5;28;01mimport\u001b[39;00m _api, cbook\n\u001b[1;32m--> 143\u001b[0m \u001b[38;5;28;01mfrom\u001b[39;00m \u001b[38;5;21;01mmatplotlib\u001b[39;00m \u001b[38;5;28;01mimport\u001b[39;00m transforms \u001b[38;5;28;01mas\u001b[39;00m mtransforms\n\u001b[0;32m    145\u001b[0m _log \u001b[38;5;241m=\u001b[39m logging\u001b[38;5;241m.\u001b[39mgetLogger(\u001b[38;5;18m__name__\u001b[39m)\n\u001b[0;32m    147\u001b[0m __all__ \u001b[38;5;241m=\u001b[39m (\u001b[38;5;124m'\u001b[39m\u001b[38;5;124mTickHelper\u001b[39m\u001b[38;5;124m'\u001b[39m, \u001b[38;5;124m'\u001b[39m\u001b[38;5;124mFormatter\u001b[39m\u001b[38;5;124m'\u001b[39m, \u001b[38;5;124m'\u001b[39m\u001b[38;5;124mFixedFormatter\u001b[39m\u001b[38;5;124m'\u001b[39m,\n\u001b[0;32m    148\u001b[0m            \u001b[38;5;124m'\u001b[39m\u001b[38;5;124mNullFormatter\u001b[39m\u001b[38;5;124m'\u001b[39m, \u001b[38;5;124m'\u001b[39m\u001b[38;5;124mFuncFormatter\u001b[39m\u001b[38;5;124m'\u001b[39m, \u001b[38;5;124m'\u001b[39m\u001b[38;5;124mFormatStrFormatter\u001b[39m\u001b[38;5;124m'\u001b[39m,\n\u001b[0;32m    149\u001b[0m            \u001b[38;5;124m'\u001b[39m\u001b[38;5;124mStrMethodFormatter\u001b[39m\u001b[38;5;124m'\u001b[39m, \u001b[38;5;124m'\u001b[39m\u001b[38;5;124mScalarFormatter\u001b[39m\u001b[38;5;124m'\u001b[39m, \u001b[38;5;124m'\u001b[39m\u001b[38;5;124mLogFormatter\u001b[39m\u001b[38;5;124m'\u001b[39m,\n\u001b[1;32m   (...)\u001b[0m\n\u001b[0;32m    155\u001b[0m            \u001b[38;5;124m'\u001b[39m\u001b[38;5;124mMultipleLocator\u001b[39m\u001b[38;5;124m'\u001b[39m, \u001b[38;5;124m'\u001b[39m\u001b[38;5;124mMaxNLocator\u001b[39m\u001b[38;5;124m'\u001b[39m, \u001b[38;5;124m'\u001b[39m\u001b[38;5;124mAutoMinorLocator\u001b[39m\u001b[38;5;124m'\u001b[39m,\n\u001b[0;32m    156\u001b[0m            \u001b[38;5;124m'\u001b[39m\u001b[38;5;124mSymmetricalLogLocator\u001b[39m\u001b[38;5;124m'\u001b[39m, \u001b[38;5;124m'\u001b[39m\u001b[38;5;124mAsinhLocator\u001b[39m\u001b[38;5;124m'\u001b[39m, \u001b[38;5;124m'\u001b[39m\u001b[38;5;124mLogitLocator\u001b[39m\u001b[38;5;124m'\u001b[39m)\n",
      "File \u001b[1;32m~\\anaconda3\\lib\\site-packages\\matplotlib\\transforms.py:49\u001b[0m\n\u001b[0;32m     46\u001b[0m \u001b[38;5;28;01mfrom\u001b[39;00m \u001b[38;5;21;01mnumpy\u001b[39;00m\u001b[38;5;21;01m.\u001b[39;00m\u001b[38;5;21;01mlinalg\u001b[39;00m \u001b[38;5;28;01mimport\u001b[39;00m inv\n\u001b[0;32m     48\u001b[0m \u001b[38;5;28;01mfrom\u001b[39;00m \u001b[38;5;21;01mmatplotlib\u001b[39;00m \u001b[38;5;28;01mimport\u001b[39;00m _api\n\u001b[1;32m---> 49\u001b[0m \u001b[38;5;28;01mfrom\u001b[39;00m \u001b[38;5;21;01mmatplotlib\u001b[39;00m\u001b[38;5;21;01m.\u001b[39;00m\u001b[38;5;21;01m_path\u001b[39;00m \u001b[38;5;28;01mimport\u001b[39;00m (\n\u001b[0;32m     50\u001b[0m     affine_transform, count_bboxes_overlapping_bbox, update_path_extents)\n\u001b[0;32m     51\u001b[0m \u001b[38;5;28;01mfrom\u001b[39;00m \u001b[38;5;21;01m.\u001b[39;00m\u001b[38;5;21;01mpath\u001b[39;00m \u001b[38;5;28;01mimport\u001b[39;00m Path\n\u001b[0;32m     53\u001b[0m DEBUG \u001b[38;5;241m=\u001b[39m \u001b[38;5;28;01mFalse\u001b[39;00m\n",
      "\u001b[1;31mImportError\u001b[0m: DLL load failed while importing _path: 找不到指定的模块。"
     ]
    }
   ],
   "source": [
    "import matplotlib.pyplot as plt\n",
    "plt.figure(figsize=(8, 6))\n",
    "plt.imshow(payoff_matrix, cmap='viridis', interpolation='nearest')\n",
    "plt.colorbar(label=\"Payoff Value\")\n",
    "plt.title(\"Payoff Matrix Heatmap\")\n",
    "plt.xlabel(\"Strategies (Columns)\")\n",
    "plt.ylabel(\"Strategies (Rows)\")\n",
    "plt.show()"
   ]
  },
  {
   "cell_type": "code",
   "execution_count": null,
   "id": "72df3041",
   "metadata": {},
   "outputs": [],
   "source": []
  }
 ],
 "metadata": {
  "kernelspec": {
   "display_name": "Python 3 (ipykernel)",
   "language": "python",
   "name": "python3"
  },
  "language_info": {
   "codemirror_mode": {
    "name": "ipython",
    "version": 3
   },
   "file_extension": ".py",
   "mimetype": "text/x-python",
   "name": "python",
   "nbconvert_exporter": "python",
   "pygments_lexer": "ipython3",
   "version": "3.10.9"
  }
 },
 "nbformat": 4,
 "nbformat_minor": 5
}
